{
 "cells": [
  {
   "cell_type": "markdown",
   "id": "e65cacd3",
   "metadata": {},
   "source": [
    "## **Autor: Frogmaker**"
   ]
  },
  {
   "cell_type": "code",
   "execution_count": 1,
   "id": "1a3aceb6",
   "metadata": {},
   "outputs": [],
   "source": [
    "# import sys\n",
    "# !\"{sys.executable}\" -m pip install beautifulsoup4 --user\n",
    "from bs4 import BeautifulSoup\n",
    "import requests"
   ]
  },
  {
   "cell_type": "code",
   "execution_count": 2,
   "id": "8b5bb628",
   "metadata": {},
   "outputs": [],
   "source": [
    "#żródło\n",
    "baseURL = \"http://aligulac.com\"\n",
    "earningsURL = \"/earnings/?page=\"\n",
    "earningsURLend = \"&year=all&country=all&currency=all\""
   ]
  },
  {
   "cell_type": "code",
   "execution_count": 3,
   "id": "2d6f7ad6",
   "metadata": {},
   "outputs": [],
   "source": [
    "listOfPlayers = []"
   ]
  },
  {
   "cell_type": "code",
   "execution_count": 4,
   "id": "71fa296d",
   "metadata": {},
   "outputs": [],
   "source": [
    "#pobranie listy zawodników ze źródła\n",
    "\n",
    "\n",
    "for i in list(range(1, 21)): #82-all, 21- >~1000USD\n",
    "    response = requests.get(baseURL+earningsURL+str(i)+earningsURLend)\n",
    "    soup = BeautifulSoup(response.content, 'html.parser')\n",
    "    \n",
    "    tags = soup.select('td.ea_name > a')\n",
    "    \n",
    "    for tag in tags:\n",
    "        player = [tag.get_text().strip(), baseURL+tag.get(\"href\")]\n",
    "        #print(tag.get_text().strip(), ' - ', tag.get(\"href\"))\n",
    "        listOfPlayers.append(player)"
   ]
  },
  {
   "cell_type": "code",
   "execution_count": 5,
   "id": "97874448",
   "metadata": {},
   "outputs": [],
   "source": [
    "#uzupełnienie danych \n",
    "# UWAGA! proces może trwać około 20 minut!\n",
    "import copy\n",
    "\n",
    "#player_zero = copy.deepcopy(listOfPlayers[0])\n",
    "for player in listOfPlayers:\n",
    "#if True:\n",
    "    #player = listOfPlayers[0][1]\n",
    "    response = requests.get(player[1])\n",
    "    soup = BeautifulSoup(response.content, 'html.parser')\n",
    "    \n",
    "    \n",
    "    race = soup.find('td', string='Race').find_next('td').text.strip()\n",
    "    country = soup.find('td', string='Country').find_next('td').text.strip()\n",
    "    if  soup.find('td', string='Full name') is not None:\n",
    "        name = soup.find('td', string='Full name').find_next('td').text.strip()\n",
    "    else:\n",
    "        name = \"-\"\n",
    "    if soup.find('td', string='Birthday') is not None:\n",
    "        birthday = int(soup.find('td', string='Birthday').find_next('td').text.strip()[-4:])\n",
    "    else:\n",
    "        birthday = 0\n",
    "    if soup.find('td', string='Team') is not None:\n",
    "        team = soup.find('td', string='Team').find_next('td').text.strip()\n",
    "    else:\n",
    "        team = \"-\"\n",
    "    total_earnings = int(soup.find('td', string='Total earnings').find_next('td').text.strip()[1:].replace(\",\",\"\"))\n",
    "    \n",
    "    for data in [race, country, name, birthday, team, total_earnings]:\n",
    "        player.append(data)\n",
    "#print(race, country, name, birthday, team, total_earnings)    \n",
    "#print(player_zero)    \n"
   ]
  },
  {
   "cell_type": "code",
   "execution_count": 7,
   "id": "fbfd43e8",
   "metadata": {},
   "outputs": [],
   "source": [
    "#inicjacja bazy danych - wykanać raz!\n",
    "\n",
    "#import sys\n",
    "#!\"{sys.executable}\" -m pip install sqlite3 --user\n",
    "\n",
    "import sqlite3\n",
    "\n",
    "#nick, url, race, country, name, birthday, team, total_earnings\n",
    "\n",
    "db = sqlite3.connect('starcraft.db')\n",
    "cursor = db.cursor()\n",
    "\n",
    "sqlQuery = \"CREATE Table Players (nick TEXT, race TEXT, country TEXT, name NTEXT, birthday INT, team TEXT, totalEarnings INT)\"\n",
    "cursor.execute(sqlQuery)\n",
    "db.commit()"
   ]
  },
  {
   "cell_type": "code",
   "execution_count": 8,
   "id": "aa6fc326",
   "metadata": {},
   "outputs": [],
   "source": [
    "#funkcja uzupełniająca bazę danych\n",
    "def insertData(nick, race, country, name, birthday, team, totalEarnings):\n",
    "    sqlQuery = \"INSERT INTO Players (nick, race, country, name, birthday, team, totalEarnings) VALUES ('{}', '{}', '{}', '{}', '{}','{}','{}')\"\n",
    "    sqlQuery = sqlQuery.format(nick, race, country, name, birthday, team, totalEarnings)\n",
    "    cursor.execute(sqlQuery)\n",
    "    db.commit()\n",
    "    pass\n",
    "\n",
    "# ??? przy próbie wprowadzania 8 kolumn, zamiast 7, nie działa - sprawdzić dlaczego"
   ]
  },
  {
   "cell_type": "code",
   "execution_count": 10,
   "id": "91aabb9d",
   "metadata": {},
   "outputs": [],
   "source": [
    "db = sqlite3.connect('starcraft.db')\n",
    "cursor = db.cursor()"
   ]
  },
  {
   "cell_type": "code",
   "execution_count": 11,
   "id": "2add0537",
   "metadata": {},
   "outputs": [],
   "source": [
    "#uzupełnianie bazy danych:\n",
    "\n",
    "for player in listOfPlayers:\n",
    "    insertData(player[0], player[2], player[3], player[4], player[5], player[6], player[7])\n",
    "db.close()"
   ]
  }
 ],
 "metadata": {
  "kernelspec": {
   "display_name": "Python 3 (ipykernel)",
   "language": "python",
   "name": "python3"
  },
  "language_info": {
   "codemirror_mode": {
    "name": "ipython",
    "version": 3
   },
   "file_extension": ".py",
   "mimetype": "text/x-python",
   "name": "python",
   "nbconvert_exporter": "python",
   "pygments_lexer": "ipython3",
   "version": "3.11.5"
  }
 },
 "nbformat": 4,
 "nbformat_minor": 5
}
